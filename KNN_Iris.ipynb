{
  "nbformat": 4,
  "nbformat_minor": 0,
  "metadata": {
    "colab": {
      "provenance": [],
      "authorship_tag": "ABX9TyOSdl8TqyG0kRbEuzBWtDjV",
      "include_colab_link": true
    },
    "kernelspec": {
      "name": "python3",
      "display_name": "Python 3"
    },
    "language_info": {
      "name": "python"
    }
  },
  "cells": [
    {
      "cell_type": "markdown",
      "metadata": {
        "id": "view-in-github",
        "colab_type": "text"
      },
      "source": [
        "<a href=\"https://colab.research.google.com/github/RochitJain/ML_AI/blob/main/KNN_Iris.ipynb\" target=\"_parent\"><img src=\"https://colab.research.google.com/assets/colab-badge.svg\" alt=\"Open In Colab\"/></a>"
      ]
    },
    {
      "cell_type": "code",
      "execution_count": 2,
      "metadata": {
        "id": "anW0YOdwg68-"
      },
      "outputs": [],
      "source": [
        "from sklearn.datasets import load_iris\n",
        "from sklearn.model_selection import train_test_split\n",
        "from sklearn.preprocessing import StandardScaler\n",
        "from sklearn.neighbors import KNeighborsClassifier\n",
        "from sklearn.metrics import accuracy_score,precision_score,classification_report"
      ]
    },
    {
      "cell_type": "code",
      "source": [
        "data= load_iris()\n",
        "X= data.data\n",
        "y= data.target"
      ],
      "metadata": {
        "id": "5wQKa6M4hCBb"
      },
      "execution_count": 4,
      "outputs": []
    },
    {
      "cell_type": "code",
      "source": [
        "scaler = StandardScaler()\n",
        "X_new= scaler.fit_transform(X)"
      ],
      "metadata": {
        "id": "YXzEDGSUhnBf"
      },
      "execution_count": 5,
      "outputs": []
    },
    {
      "cell_type": "code",
      "source": [
        "X_train, X_test, y_train, y_test = train_test_split(X_new,y, test_size=0.2)"
      ],
      "metadata": {
        "id": "1-qf-HPDh0hk"
      },
      "execution_count": 6,
      "outputs": []
    },
    {
      "cell_type": "code",
      "source": [
        "knn = KNeighborsClassifier(n_neighbors=3)\n",
        "knn.fit(X_train,y_train)"
      ],
      "metadata": {
        "id": "ftDesm3DiEM7"
      },
      "execution_count": null,
      "outputs": []
    },
    {
      "cell_type": "code",
      "source": [
        "y_pred = knn.predict(X_test)\n",
        "print(\"Accuracy\", accuracy_score(y_pred, y_test))\n",
        "print(classification_report(y_test, y_pred))"
      ],
      "metadata": {
        "colab": {
          "base_uri": "https://localhost:8080/"
        },
        "id": "s5SgaF0YiUCe",
        "outputId": "ba6601b3-c881-40bf-ee6a-5d2424d5eead"
      },
      "execution_count": 13,
      "outputs": [
        {
          "output_type": "stream",
          "name": "stdout",
          "text": [
            "Accuracy 0.9333333333333333\n",
            "              precision    recall  f1-score   support\n",
            "\n",
            "           0       1.00      1.00      1.00        12\n",
            "           1       0.92      0.92      0.92        12\n",
            "           2       0.83      0.83      0.83         6\n",
            "\n",
            "    accuracy                           0.93        30\n",
            "   macro avg       0.92      0.92      0.92        30\n",
            "weighted avg       0.93      0.93      0.93        30\n",
            "\n"
          ]
        }
      ]
    },
    {
      "cell_type": "code",
      "source": [
        "#To find n value\n",
        "# import matplotlib.pyplot as plt\n",
        "# scores = []\n",
        "\n",
        "# for k in range(1, 21):\n",
        "#     knn = KNeighborsClassifier(n_neighbors=k)\n",
        "#     knn.fit(X_train, y_train)\n",
        "#     y_pred = knn.predict(X_test)\n",
        "#     scores.append(accuracy_score(y_test, y_pred))\n",
        "\n",
        "# plt.plot(range(1, 21), scores)\n",
        "# plt.xlabel('K')\n",
        "# plt.ylabel('Accuracy')\n",
        "# plt.title('Accuracy vs K')\n",
        "# plt.grid(True)\n",
        "# plt.show()\n",
        "# scores"
      ],
      "metadata": {
        "id": "JUqg51Jdis_t"
      },
      "execution_count": null,
      "outputs": []
    },
    {
      "cell_type": "code",
      "source": [],
      "metadata": {
        "id": "h8zzfqvqi6TB"
      },
      "execution_count": null,
      "outputs": []
    }
  ]
}