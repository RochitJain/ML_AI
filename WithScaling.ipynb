{
  "nbformat": 4,
  "nbformat_minor": 0,
  "metadata": {
    "colab": {
      "provenance": [],
      "authorship_tag": "ABX9TyOpYD+Iz+hzer/x9EhF6tTo",
      "include_colab_link": true
    },
    "kernelspec": {
      "name": "python3",
      "display_name": "Python 3"
    },
    "language_info": {
      "name": "python"
    }
  },
  "cells": [
    {
      "cell_type": "markdown",
      "metadata": {
        "id": "view-in-github",
        "colab_type": "text"
      },
      "source": [
        "<a href=\"https://colab.research.google.com/github/RochitJain/ML_AI/blob/main/WithScaling.ipynb\" target=\"_parent\"><img src=\"https://colab.research.google.com/assets/colab-badge.svg\" alt=\"Open In Colab\"/></a>"
      ]
    },
    {
      "cell_type": "code",
      "execution_count": 2,
      "metadata": {
        "id": "bChHE2IgX069"
      },
      "outputs": [],
      "source": [
        "from sklearn.datasets import load_wine\n",
        "data = load_wine()"
      ]
    },
    {
      "cell_type": "code",
      "source": [
        "import pandas as pd\n",
        "from sklearn.preprocessing import StandardScaler\n",
        "from sklearn.model_selection import train_test_split\n",
        "from sklearn.linear_model import LogisticRegression\n",
        "from sklearn.neighbors import KNeighborsClassifier\n",
        "from sklearn.ensemble import RandomForestClassifier\n",
        "from sklearn.metrics import accuracy_score\n",
        "\n",
        "X = pd.DataFrame(data.data,columns=data.feature_names)\n",
        "y = pd.Series(data.target)\n",
        "\n",
        "X_train, X_test, y_train, y_test = train_test_split(X, y,random_state=11, test_size=0.2)\n",
        "\n",
        "models = {\n",
        "    \"Logistic\": LogisticRegression(),\n",
        "    \"KNN\": KNeighborsClassifier(n_neighbors=3),\n",
        "    \"RandomForest\": RandomForestClassifier()\n",
        "}\n",
        "\n",
        "for name, model in models.items():\n",
        "  model.fit(X_train,y_train)\n",
        "  y_pred = model.predict(X_test)\n",
        "  print(f\"{name} accuracy:\", accuracy_score( y_test, y_pred))\n"
      ],
      "metadata": {
        "id": "GFScnKP0Y9is"
      },
      "execution_count": null,
      "outputs": []
    },
    {
      "cell_type": "code",
      "source": [
        "scaler = StandardScaler()\n",
        "X_scaled = scaler.fit_transform(X)\n",
        "X_train_s, X_test_s, y_train_s, y_test_s = train_test_split(X_scaled, y, test_size=0.2, random_state=11)\n",
        "for name, model in models.items():\n",
        "  model.fit(X_train_s,y_train_s)\n",
        "  print(f\"{name} accuracy:\", model.score(X_test_s, y_test_s))\n"
      ],
      "metadata": {
        "id": "-vZ3tdpBcOsq"
      },
      "execution_count": null,
      "outputs": []
    },
    {
      "cell_type": "code",
      "source": [
        "from sklearn.model_selection import cross_val_score\n",
        "\n",
        "for name, model in models.items():\n",
        "    scores = cross_val_score(model, X_scaled, y, cv=5)\n",
        "    print(f\"{name} CV mean score:\", scores.mean())"
      ],
      "metadata": {
        "id": "kjYVrRrqciUc"
      },
      "execution_count": null,
      "outputs": []
    },
    {
      "cell_type": "code",
      "source": [],
      "metadata": {
        "id": "yV8FkrM0dmVa"
      },
      "execution_count": null,
      "outputs": []
    }
  ]
}